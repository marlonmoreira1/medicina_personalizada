{
 "cells": [
  {
   "cell_type": "code",
   "execution_count": 1,
   "metadata": {},
   "outputs": [],
   "source": [
    "#carregando os dados\n",
    "import pandas as pd\n",
    "\n",
    "variants_train = pd.read_csv('data_files/training_variants', sep = ',')"
   ]
  },
  {
   "cell_type": "code",
   "execution_count": 2,
   "metadata": {},
   "outputs": [
    {
     "data": {
      "text/html": [
       "<div>\n",
       "<style scoped>\n",
       "    .dataframe tbody tr th:only-of-type {\n",
       "        vertical-align: middle;\n",
       "    }\n",
       "\n",
       "    .dataframe tbody tr th {\n",
       "        vertical-align: top;\n",
       "    }\n",
       "\n",
       "    .dataframe thead th {\n",
       "        text-align: right;\n",
       "    }\n",
       "</style>\n",
       "<table border=\"1\" class=\"dataframe\">\n",
       "  <thead>\n",
       "    <tr style=\"text-align: right;\">\n",
       "      <th></th>\n",
       "      <th>ID</th>\n",
       "      <th>Gene</th>\n",
       "      <th>Variation</th>\n",
       "      <th>Class</th>\n",
       "    </tr>\n",
       "  </thead>\n",
       "  <tbody>\n",
       "    <tr>\n",
       "      <th>0</th>\n",
       "      <td>0</td>\n",
       "      <td>FAM58A</td>\n",
       "      <td>Truncating Mutations</td>\n",
       "      <td>1</td>\n",
       "    </tr>\n",
       "    <tr>\n",
       "      <th>1</th>\n",
       "      <td>1</td>\n",
       "      <td>CBL</td>\n",
       "      <td>W802*</td>\n",
       "      <td>2</td>\n",
       "    </tr>\n",
       "    <tr>\n",
       "      <th>2</th>\n",
       "      <td>2</td>\n",
       "      <td>CBL</td>\n",
       "      <td>Q249E</td>\n",
       "      <td>2</td>\n",
       "    </tr>\n",
       "    <tr>\n",
       "      <th>3</th>\n",
       "      <td>3</td>\n",
       "      <td>CBL</td>\n",
       "      <td>N454D</td>\n",
       "      <td>3</td>\n",
       "    </tr>\n",
       "    <tr>\n",
       "      <th>4</th>\n",
       "      <td>4</td>\n",
       "      <td>CBL</td>\n",
       "      <td>L399V</td>\n",
       "      <td>4</td>\n",
       "    </tr>\n",
       "  </tbody>\n",
       "</table>\n",
       "</div>"
      ],
      "text/plain": [
       "   ID    Gene             Variation  Class\n",
       "0   0  FAM58A  Truncating Mutations      1\n",
       "1   1     CBL                 W802*      2\n",
       "2   2     CBL                 Q249E      2\n",
       "3   3     CBL                 N454D      3\n",
       "4   4     CBL                 L399V      4"
      ]
     },
     "execution_count": 2,
     "metadata": {},
     "output_type": "execute_result"
    }
   ],
   "source": [
    "#visualizando os dados\n",
    "variants_train.head()"
   ]
  },
  {
   "cell_type": "code",
   "execution_count": 3,
   "metadata": {},
   "outputs": [
    {
     "name": "stdout",
     "output_type": "stream",
     "text": [
      "<class 'pandas.core.frame.DataFrame'>\n",
      "RangeIndex: 3321 entries, 0 to 3320\n",
      "Data columns (total 4 columns):\n",
      "ID           3321 non-null int64\n",
      "Gene         3321 non-null object\n",
      "Variation    3321 non-null object\n",
      "Class        3321 non-null int64\n",
      "dtypes: int64(2), object(2)\n",
      "memory usage: 103.9+ KB\n"
     ]
    }
   ],
   "source": [
    "#olhando os tipos dos dados\n",
    "variants_train.info()"
   ]
  },
  {
   "cell_type": "code",
   "execution_count": 4,
   "metadata": {},
   "outputs": [
    {
     "data": {
      "text/plain": [
       "0"
      ]
     },
     "execution_count": 4,
     "metadata": {},
     "output_type": "execute_result"
    }
   ],
   "source": [
    "#verificando se há algum registro faltante\n",
    "variants_train.isnull().any().sum()"
   ]
  },
  {
   "cell_type": "code",
   "execution_count": 5,
   "metadata": {},
   "outputs": [
    {
     "data": {
      "text/plain": [
       "0"
      ]
     },
     "execution_count": 5,
     "metadata": {},
     "output_type": "execute_result"
    }
   ],
   "source": [
    "#verificando se há algum registro duplicado\n",
    "variants_train.duplicated().any().sum()"
   ]
  },
  {
   "cell_type": "code",
   "execution_count": 6,
   "metadata": {},
   "outputs": [],
   "source": [
    "#colacando em dicionario somente os valores unicos\n",
    "unicos = {i:variants_train.iloc[:,i].unique() for i in range(len(variants_train.columns))}"
   ]
  },
  {
   "cell_type": "code",
   "execution_count": 7,
   "metadata": {},
   "outputs": [
    {
     "data": {
      "text/plain": [
       "array(['FAM58A', 'CBL', 'SHOC2', 'TERT', 'DICER1', 'PTPRT', 'RHEB',\n",
       "       'SHQ1', 'CCND2', 'RAD50', 'CCND3', 'RIT1', 'CCNE1', 'RYBP',\n",
       "       'TGFBR1', 'TGFBR2', 'MSH6', 'KMT2D', 'LATS1', 'PBRM1', 'SF3B1',\n",
       "       'LATS2', 'EGFR', 'NKX2-1', 'EIF1AX', 'ARID2', 'BRD4', 'HIST1H1C',\n",
       "       'ERRFI1', 'CHEK2', 'PAK1', 'TMPRSS2', 'H3F3A', 'ELF3', 'ROS1',\n",
       "       'ASXL2', 'CDH1', 'EPCAM', 'EP300', 'EPAS1', 'TP53', 'TP53BP1',\n",
       "       'SMAD2', 'SMAD3', 'SMAD4', 'CDK4', 'AURKB', 'CDK6', 'FBXW7',\n",
       "       'CDK8', 'CDKN1A', 'CDKN1B', 'CDKN2A', 'CDKN2B', 'CDKN2C', 'ASXL1',\n",
       "       'ERBB2', 'ERBB3', 'ERBB4', 'ERCC2', 'BRIP1', 'ERCC3', 'ERCC4',\n",
       "       'ABL1', 'CEBPA', 'ERG', 'HLA-A', 'HLA-B', 'PDGFRA', 'PDGFRB',\n",
       "       'RBM10', 'KDM5C', 'ESR1', 'ETV1', 'ETV6', 'TSC1', 'IKZF1', 'TSC2',\n",
       "       'EWSR1', 'ACVR1', 'FOXA1', 'MDM2', 'ARID1A', 'EZH2', 'MDM4',\n",
       "       'KLF4', 'RXRA', 'MAP3K1', 'AXIN1', 'BAP1', 'MEN1', 'FANCA',\n",
       "       'FANCC', 'MET', 'U2AF1', 'KMT2C', 'FAT1', 'ARID1B', 'PIK3CA',\n",
       "       'PIK3CB', 'PIM1', 'PIK3CD', 'YAP1', 'PIK3R1', 'PIK3R2', 'ARID5B',\n",
       "       'HRAS', 'MLH1', 'FGF3', 'FGF4', 'KMT2A', 'AKT1', 'AKT2', 'FGFR1',\n",
       "       'FGFR3', 'SPOP', 'FGFR2', 'FGFR4', 'KDM6A', 'ALK', 'SDHB',\n",
       "       'RAD54L', 'SDHC', 'VEGFA', 'MPL', 'PMS1', 'CARM1', 'FOXO1', 'VHL',\n",
       "       'MAP2K4', 'RRAS2', 'FLT1', 'FLT3', 'PMS2', 'SRSF2', 'WHSC1',\n",
       "       'PPM1D', 'POLE', 'KNSTRN', 'PIK3R3', 'APC', 'RICTOR', 'MSH2',\n",
       "       'IDH1', 'IDH2', 'XPO1', 'XRCC2', 'CREBBP', 'AR', 'ARAF', 'RHOA',\n",
       "       'NCOR1', 'PPP2R1A', 'SETD2', 'IGF1R', 'PPP6C', 'CTCF', 'IKBKE',\n",
       "       'MTOR', 'TET1', 'SMARCA4', 'SMARCB1', 'FOXP1', 'SMO', 'CARD11',\n",
       "       'MEF2B', 'CTLA4', 'ATM', 'NUP93', 'MAPK1', 'CTNNB1', 'MAP2K1',\n",
       "       'MAP2K2', 'STAG2', 'IL7R', 'SOS1', 'MYC', 'MYCN', 'SOX9', 'TET2',\n",
       "       'MYD88', 'AGO2', 'KMT2B', 'ATR', 'ATRX', 'CDK12', 'AXL', 'MYOD1',\n",
       "       'B2M', 'SRC', 'GATA3', 'BARD1', 'CCND1', 'BCL2', 'KEAP1', 'PTCH1',\n",
       "       'PTEN', 'BCOR', 'RNF43', 'CIC', 'INPP4B', 'STAT3', 'WHSC1L1',\n",
       "       'PRDM1', 'JAK1', 'JAK2', 'AURKA', 'STK11', 'JUN', 'PTPN11', 'NF1',\n",
       "       'FOXL2', 'PTPRD', 'BRCA1', 'BRAF', 'BRCA2', 'NF2', 'PAX8',\n",
       "       'NFE2L2', 'GLI1', 'FUBP1', 'BTK', 'NFKBIA', 'GNA11', 'KDR',\n",
       "       'BCL10', 'GNAQ', 'GNAS', 'MGA', 'KIT', 'FGF19', 'MED12', 'NOTCH1',\n",
       "       'NOTCH2', 'RAC1', 'DNMT3A', 'DNMT3B', 'RAD21', 'RAD51C', 'RAD51B',\n",
       "       'RAD51D', 'KRAS', 'NPM1', 'RAF1', 'RAB35', 'HNF1A', 'AKT3', 'TCF3',\n",
       "       'TCF7L2', 'RARA', 'NRAS', 'RASA1', 'BCL2L11', 'RB1', 'KDM5A',\n",
       "       'NTRK1', 'NTRK2', 'NTRK3', 'DUSP4', 'DDR2', 'NSD1', 'CASP8', 'RET',\n",
       "       'RUNX1'], dtype=object)"
      ]
     },
     "execution_count": 7,
     "metadata": {},
     "output_type": "execute_result"
    }
   ],
   "source": [
    "unicos[1]"
   ]
  },
  {
   "cell_type": "code",
   "execution_count": 8,
   "metadata": {},
   "outputs": [
    {
     "data": {
      "text/plain": [
       "264"
      ]
     },
     "execution_count": 8,
     "metadata": {},
     "output_type": "execute_result"
    }
   ],
   "source": [
    "unicos[1].shape[0]"
   ]
  },
  {
   "cell_type": "code",
   "execution_count": 9,
   "metadata": {},
   "outputs": [
    {
     "data": {
      "text/plain": [
       "array([1, 2, 3, 4, 5, 6, 7, 8, 9], dtype=int64)"
      ]
     },
     "execution_count": 9,
     "metadata": {},
     "output_type": "execute_result"
    }
   ],
   "source": [
    "unicos[3]"
   ]
  },
  {
   "cell_type": "code",
   "execution_count": 10,
   "metadata": {},
   "outputs": [
    {
     "data": {
      "text/plain": [
       "array(['Truncating Mutations', 'W802*', 'Q249E', ..., 'A122*', 'R80C',\n",
       "       'K83E'], dtype=object)"
      ]
     },
     "execution_count": 10,
     "metadata": {},
     "output_type": "execute_result"
    }
   ],
   "source": [
    "unicos[2]"
   ]
  },
  {
   "cell_type": "code",
   "execution_count": 11,
   "metadata": {},
   "outputs": [
    {
     "data": {
      "text/plain": [
       "2996"
      ]
     },
     "execution_count": 11,
     "metadata": {},
     "output_type": "execute_result"
    }
   ],
   "source": [
    "unicos[2].shape[0]"
   ]
  },
  {
   "cell_type": "code",
   "execution_count": 12,
   "metadata": {},
   "outputs": [],
   "source": [
    "#dessa celula até a 28 minha intenção era investigar se o numero de genes e variações desses genes explicaria as variantes\n",
    "#após a celula 28 há um texto explicando\n",
    "gene_unicos = variants_train.groupby('Gene')['ID'].nunique()"
   ]
  },
  {
   "cell_type": "code",
   "execution_count": 13,
   "metadata": {},
   "outputs": [
    {
     "data": {
      "text/plain": [
       "Gene\n",
       "ABL1        26\n",
       "ACVR1        3\n",
       "AGO2         5\n",
       "AKT1        28\n",
       "AKT2        11\n",
       "AKT3         4\n",
       "ALK         69\n",
       "APC          5\n",
       "AR          20\n",
       "ARAF         7\n",
       "ARID1A       1\n",
       "ARID1B       2\n",
       "ARID2        2\n",
       "ARID5B       1\n",
       "ASXL1        1\n",
       "ASXL2        1\n",
       "ATM          6\n",
       "ATR          1\n",
       "ATRX         2\n",
       "AURKA        3\n",
       "AURKB        1\n",
       "AXIN1        1\n",
       "AXL          1\n",
       "B2M          6\n",
       "BAP1         9\n",
       "BARD1        1\n",
       "BCL10        2\n",
       "BCL2         1\n",
       "BCL2L11      2\n",
       "BCOR         5\n",
       "          ... \n",
       "SMARCB1      2\n",
       "SMO         21\n",
       "SOS1         6\n",
       "SOX9         7\n",
       "SPOP        20\n",
       "SRC          2\n",
       "SRSF2        1\n",
       "STAG2        1\n",
       "STAT3        8\n",
       "STK11       13\n",
       "TCF3         1\n",
       "TCF7L2       1\n",
       "TERT         8\n",
       "TET1         3\n",
       "TET2        14\n",
       "TGFBR1       8\n",
       "TGFBR2       5\n",
       "TMPRSS2      6\n",
       "TP53       163\n",
       "TP53BP1      2\n",
       "TSC1        20\n",
       "TSC2        47\n",
       "U2AF1        3\n",
       "VEGFA        1\n",
       "VHL         41\n",
       "WHSC1        1\n",
       "WHSC1L1      1\n",
       "XPO1         2\n",
       "XRCC2        2\n",
       "YAP1         4\n",
       "Name: ID, Length: 264, dtype: int64"
      ]
     },
     "execution_count": 13,
     "metadata": {},
     "output_type": "execute_result"
    }
   ],
   "source": [
    "gene_unicos"
   ]
  },
  {
   "cell_type": "code",
   "execution_count": 14,
   "metadata": {},
   "outputs": [],
   "source": [
    "genes_var_num = variants_train.groupby('Gene')['Variation'].nunique()"
   ]
  },
  {
   "cell_type": "code",
   "execution_count": 15,
   "metadata": {},
   "outputs": [
    {
     "data": {
      "text/plain": [
       "Gene\n",
       "ABL1        26\n",
       "ACVR1        3\n",
       "AGO2         5\n",
       "AKT1        28\n",
       "AKT2        11\n",
       "AKT3         4\n",
       "ALK         69\n",
       "APC          5\n",
       "AR          20\n",
       "ARAF         7\n",
       "ARID1A       1\n",
       "ARID1B       2\n",
       "ARID2        2\n",
       "ARID5B       1\n",
       "ASXL1        1\n",
       "ASXL2        1\n",
       "ATM          6\n",
       "ATR          1\n",
       "ATRX         2\n",
       "AURKA        3\n",
       "AURKB        1\n",
       "AXIN1        1\n",
       "AXL          1\n",
       "B2M          6\n",
       "BAP1         9\n",
       "BARD1        1\n",
       "BCL10        2\n",
       "BCL2         1\n",
       "BCL2L11      2\n",
       "BCOR         5\n",
       "          ... \n",
       "SMARCB1      2\n",
       "SMO         21\n",
       "SOS1         6\n",
       "SOX9         7\n",
       "SPOP        20\n",
       "SRC          2\n",
       "SRSF2        1\n",
       "STAG2        1\n",
       "STAT3        8\n",
       "STK11       13\n",
       "TCF3         1\n",
       "TCF7L2       1\n",
       "TERT         8\n",
       "TET1         3\n",
       "TET2        14\n",
       "TGFBR1       8\n",
       "TGFBR2       5\n",
       "TMPRSS2      6\n",
       "TP53       163\n",
       "TP53BP1      2\n",
       "TSC1        20\n",
       "TSC2        47\n",
       "U2AF1        3\n",
       "VEGFA        1\n",
       "VHL         41\n",
       "WHSC1        1\n",
       "WHSC1L1      1\n",
       "XPO1         2\n",
       "XRCC2        2\n",
       "YAP1         4\n",
       "Name: Variation, Length: 264, dtype: int64"
      ]
     },
     "execution_count": 15,
     "metadata": {},
     "output_type": "execute_result"
    }
   ],
   "source": [
    "genes_var_num"
   ]
  },
  {
   "cell_type": "code",
   "execution_count": 16,
   "metadata": {},
   "outputs": [],
   "source": [
    "classes_genes_var = variants_train.groupby('Class')['Gene','Variation'].nunique()"
   ]
  },
  {
   "cell_type": "code",
   "execution_count": 17,
   "metadata": {},
   "outputs": [
    {
     "data": {
      "text/html": [
       "<div>\n",
       "<style scoped>\n",
       "    .dataframe tbody tr th:only-of-type {\n",
       "        vertical-align: middle;\n",
       "    }\n",
       "\n",
       "    .dataframe tbody tr th {\n",
       "        vertical-align: top;\n",
       "    }\n",
       "\n",
       "    .dataframe thead th {\n",
       "        text-align: right;\n",
       "    }\n",
       "</style>\n",
       "<table border=\"1\" class=\"dataframe\">\n",
       "  <thead>\n",
       "    <tr style=\"text-align: right;\">\n",
       "      <th></th>\n",
       "      <th>Gene</th>\n",
       "      <th>Variation</th>\n",
       "    </tr>\n",
       "    <tr>\n",
       "      <th>Class</th>\n",
       "      <th></th>\n",
       "      <th></th>\n",
       "    </tr>\n",
       "  </thead>\n",
       "  <tbody>\n",
       "    <tr>\n",
       "      <th>1</th>\n",
       "      <td>142</td>\n",
       "      <td>423</td>\n",
       "    </tr>\n",
       "    <tr>\n",
       "      <th>2</th>\n",
       "      <td>96</td>\n",
       "      <td>399</td>\n",
       "    </tr>\n",
       "    <tr>\n",
       "      <th>3</th>\n",
       "      <td>26</td>\n",
       "      <td>89</td>\n",
       "    </tr>\n",
       "    <tr>\n",
       "      <th>4</th>\n",
       "      <td>92</td>\n",
       "      <td>669</td>\n",
       "    </tr>\n",
       "    <tr>\n",
       "      <th>5</th>\n",
       "      <td>48</td>\n",
       "      <td>242</td>\n",
       "    </tr>\n",
       "    <tr>\n",
       "      <th>6</th>\n",
       "      <td>56</td>\n",
       "      <td>265</td>\n",
       "    </tr>\n",
       "    <tr>\n",
       "      <th>7</th>\n",
       "      <td>108</td>\n",
       "      <td>889</td>\n",
       "    </tr>\n",
       "    <tr>\n",
       "      <th>8</th>\n",
       "      <td>12</td>\n",
       "      <td>19</td>\n",
       "    </tr>\n",
       "    <tr>\n",
       "      <th>9</th>\n",
       "      <td>10</td>\n",
       "      <td>37</td>\n",
       "    </tr>\n",
       "  </tbody>\n",
       "</table>\n",
       "</div>"
      ],
      "text/plain": [
       "       Gene  Variation\n",
       "Class                 \n",
       "1       142        423\n",
       "2        96        399\n",
       "3        26         89\n",
       "4        92        669\n",
       "5        48        242\n",
       "6        56        265\n",
       "7       108        889\n",
       "8        12         19\n",
       "9        10         37"
      ]
     },
     "execution_count": 17,
     "metadata": {},
     "output_type": "execute_result"
    }
   ],
   "source": [
    "classes_genes_var"
   ]
  },
  {
   "cell_type": "code",
   "execution_count": 18,
   "metadata": {},
   "outputs": [],
   "source": [
    "genes_maior = genes_var_num[genes_var_num > 90]"
   ]
  },
  {
   "cell_type": "code",
   "execution_count": 19,
   "metadata": {},
   "outputs": [],
   "source": [
    "df_maiorgene = pd.DataFrame(genes_maior)"
   ]
  },
  {
   "cell_type": "code",
   "execution_count": 20,
   "metadata": {},
   "outputs": [],
   "source": [
    "df_maiorgene = df_maiorgene.reset_index(level='Gene')"
   ]
  },
  {
   "cell_type": "code",
   "execution_count": 21,
   "metadata": {},
   "outputs": [
    {
     "data": {
      "text/html": [
       "<div>\n",
       "<style scoped>\n",
       "    .dataframe tbody tr th:only-of-type {\n",
       "        vertical-align: middle;\n",
       "    }\n",
       "\n",
       "    .dataframe tbody tr th {\n",
       "        vertical-align: top;\n",
       "    }\n",
       "\n",
       "    .dataframe thead th {\n",
       "        text-align: right;\n",
       "    }\n",
       "</style>\n",
       "<table border=\"1\" class=\"dataframe\">\n",
       "  <thead>\n",
       "    <tr style=\"text-align: right;\">\n",
       "      <th></th>\n",
       "      <th>Gene</th>\n",
       "      <th>Variation</th>\n",
       "    </tr>\n",
       "  </thead>\n",
       "  <tbody>\n",
       "    <tr>\n",
       "      <th>0</th>\n",
       "      <td>BRAF</td>\n",
       "      <td>93</td>\n",
       "    </tr>\n",
       "    <tr>\n",
       "      <th>1</th>\n",
       "      <td>BRCA1</td>\n",
       "      <td>264</td>\n",
       "    </tr>\n",
       "    <tr>\n",
       "      <th>2</th>\n",
       "      <td>BRCA2</td>\n",
       "      <td>125</td>\n",
       "    </tr>\n",
       "    <tr>\n",
       "      <th>3</th>\n",
       "      <td>EGFR</td>\n",
       "      <td>141</td>\n",
       "    </tr>\n",
       "    <tr>\n",
       "      <th>4</th>\n",
       "      <td>KIT</td>\n",
       "      <td>99</td>\n",
       "    </tr>\n",
       "    <tr>\n",
       "      <th>5</th>\n",
       "      <td>PTEN</td>\n",
       "      <td>126</td>\n",
       "    </tr>\n",
       "    <tr>\n",
       "      <th>6</th>\n",
       "      <td>TP53</td>\n",
       "      <td>163</td>\n",
       "    </tr>\n",
       "  </tbody>\n",
       "</table>\n",
       "</div>"
      ],
      "text/plain": [
       "    Gene  Variation\n",
       "0   BRAF         93\n",
       "1  BRCA1        264\n",
       "2  BRCA2        125\n",
       "3   EGFR        141\n",
       "4    KIT         99\n",
       "5   PTEN        126\n",
       "6   TP53        163"
      ]
     },
     "execution_count": 21,
     "metadata": {},
     "output_type": "execute_result"
    }
   ],
   "source": [
    "df_maiorgene"
   ]
  },
  {
   "cell_type": "code",
   "execution_count": 22,
   "metadata": {},
   "outputs": [],
   "source": [
    "list_gene = ['BRAF','BRCA1','BRCA2','EGFR','KIT','PTEN','TP53']"
   ]
  },
  {
   "cell_type": "code",
   "execution_count": 23,
   "metadata": {},
   "outputs": [],
   "source": [
    "gene_in_classes = variants_train[variants_train['Gene'].isin(list_gene)].groupby('Class')['Gene'].value_counts()"
   ]
  },
  {
   "cell_type": "code",
   "execution_count": 24,
   "metadata": {},
   "outputs": [],
   "source": [
    "df_genein_classes = pd.DataFrame(gene_in_classes)"
   ]
  },
  {
   "cell_type": "code",
   "execution_count": 25,
   "metadata": {},
   "outputs": [],
   "source": [
    "df_genein_classes.columns = ['Gene_num']"
   ]
  },
  {
   "cell_type": "code",
   "execution_count": 26,
   "metadata": {},
   "outputs": [],
   "source": [
    "df_genein_classes = df_genein_classes.reset_index(level='Gene')"
   ]
  },
  {
   "cell_type": "code",
   "execution_count": 27,
   "metadata": {},
   "outputs": [],
   "source": [
    "df_genein_classes = df_genein_classes.reset_index(level='Class')"
   ]
  },
  {
   "cell_type": "code",
   "execution_count": 28,
   "metadata": {},
   "outputs": [
    {
     "data": {
      "text/html": [
       "<div>\n",
       "<style scoped>\n",
       "    .dataframe tbody tr th:only-of-type {\n",
       "        vertical-align: middle;\n",
       "    }\n",
       "\n",
       "    .dataframe tbody tr th {\n",
       "        vertical-align: top;\n",
       "    }\n",
       "\n",
       "    .dataframe thead th {\n",
       "        text-align: right;\n",
       "    }\n",
       "</style>\n",
       "<table border=\"1\" class=\"dataframe\">\n",
       "  <thead>\n",
       "    <tr style=\"text-align: right;\">\n",
       "      <th></th>\n",
       "      <th>Class</th>\n",
       "      <th>Gene</th>\n",
       "      <th>Gene_num</th>\n",
       "    </tr>\n",
       "  </thead>\n",
       "  <tbody>\n",
       "    <tr>\n",
       "      <th>0</th>\n",
       "      <td>1</td>\n",
       "      <td>TP53</td>\n",
       "      <td>83</td>\n",
       "    </tr>\n",
       "    <tr>\n",
       "      <th>1</th>\n",
       "      <td>1</td>\n",
       "      <td>BRCA1</td>\n",
       "      <td>60</td>\n",
       "    </tr>\n",
       "    <tr>\n",
       "      <th>2</th>\n",
       "      <td>1</td>\n",
       "      <td>BRCA2</td>\n",
       "      <td>18</td>\n",
       "    </tr>\n",
       "    <tr>\n",
       "      <th>3</th>\n",
       "      <td>1</td>\n",
       "      <td>PTEN</td>\n",
       "      <td>3</td>\n",
       "    </tr>\n",
       "    <tr>\n",
       "      <th>4</th>\n",
       "      <td>1</td>\n",
       "      <td>EGFR</td>\n",
       "      <td>1</td>\n",
       "    </tr>\n",
       "    <tr>\n",
       "      <th>5</th>\n",
       "      <td>2</td>\n",
       "      <td>EGFR</td>\n",
       "      <td>45</td>\n",
       "    </tr>\n",
       "    <tr>\n",
       "      <th>6</th>\n",
       "      <td>2</td>\n",
       "      <td>KIT</td>\n",
       "      <td>44</td>\n",
       "    </tr>\n",
       "    <tr>\n",
       "      <th>7</th>\n",
       "      <td>2</td>\n",
       "      <td>BRAF</td>\n",
       "      <td>31</td>\n",
       "    </tr>\n",
       "    <tr>\n",
       "      <th>8</th>\n",
       "      <td>2</td>\n",
       "      <td>TP53</td>\n",
       "      <td>3</td>\n",
       "    </tr>\n",
       "    <tr>\n",
       "      <th>9</th>\n",
       "      <td>3</td>\n",
       "      <td>BRCA1</td>\n",
       "      <td>15</td>\n",
       "    </tr>\n",
       "    <tr>\n",
       "      <th>10</th>\n",
       "      <td>3</td>\n",
       "      <td>PTEN</td>\n",
       "      <td>5</td>\n",
       "    </tr>\n",
       "    <tr>\n",
       "      <th>11</th>\n",
       "      <td>3</td>\n",
       "      <td>TP53</td>\n",
       "      <td>2</td>\n",
       "    </tr>\n",
       "    <tr>\n",
       "      <th>12</th>\n",
       "      <td>3</td>\n",
       "      <td>BRAF</td>\n",
       "      <td>1</td>\n",
       "    </tr>\n",
       "    <tr>\n",
       "      <th>13</th>\n",
       "      <td>3</td>\n",
       "      <td>EGFR</td>\n",
       "      <td>1</td>\n",
       "    </tr>\n",
       "    <tr>\n",
       "      <th>14</th>\n",
       "      <td>3</td>\n",
       "      <td>KIT</td>\n",
       "      <td>1</td>\n",
       "    </tr>\n",
       "    <tr>\n",
       "      <th>15</th>\n",
       "      <td>4</td>\n",
       "      <td>PTEN</td>\n",
       "      <td>115</td>\n",
       "    </tr>\n",
       "    <tr>\n",
       "      <th>16</th>\n",
       "      <td>4</td>\n",
       "      <td>TP53</td>\n",
       "      <td>67</td>\n",
       "    </tr>\n",
       "    <tr>\n",
       "      <th>17</th>\n",
       "      <td>4</td>\n",
       "      <td>BRCA1</td>\n",
       "      <td>46</td>\n",
       "    </tr>\n",
       "    <tr>\n",
       "      <th>18</th>\n",
       "      <td>4</td>\n",
       "      <td>EGFR</td>\n",
       "      <td>5</td>\n",
       "    </tr>\n",
       "    <tr>\n",
       "      <th>19</th>\n",
       "      <td>4</td>\n",
       "      <td>BRCA2</td>\n",
       "      <td>3</td>\n",
       "    </tr>\n",
       "    <tr>\n",
       "      <th>20</th>\n",
       "      <td>4</td>\n",
       "      <td>BRAF</td>\n",
       "      <td>2</td>\n",
       "    </tr>\n",
       "    <tr>\n",
       "      <th>21</th>\n",
       "      <td>4</td>\n",
       "      <td>KIT</td>\n",
       "      <td>1</td>\n",
       "    </tr>\n",
       "    <tr>\n",
       "      <th>22</th>\n",
       "      <td>5</td>\n",
       "      <td>BRCA1</td>\n",
       "      <td>90</td>\n",
       "    </tr>\n",
       "    <tr>\n",
       "      <th>23</th>\n",
       "      <td>5</td>\n",
       "      <td>BRCA2</td>\n",
       "      <td>20</td>\n",
       "    </tr>\n",
       "    <tr>\n",
       "      <th>24</th>\n",
       "      <td>5</td>\n",
       "      <td>BRAF</td>\n",
       "      <td>8</td>\n",
       "    </tr>\n",
       "    <tr>\n",
       "      <th>25</th>\n",
       "      <td>5</td>\n",
       "      <td>EGFR</td>\n",
       "      <td>3</td>\n",
       "    </tr>\n",
       "    <tr>\n",
       "      <th>26</th>\n",
       "      <td>5</td>\n",
       "      <td>PTEN</td>\n",
       "      <td>2</td>\n",
       "    </tr>\n",
       "    <tr>\n",
       "      <th>27</th>\n",
       "      <td>5</td>\n",
       "      <td>TP53</td>\n",
       "      <td>2</td>\n",
       "    </tr>\n",
       "    <tr>\n",
       "      <th>28</th>\n",
       "      <td>6</td>\n",
       "      <td>BRCA2</td>\n",
       "      <td>84</td>\n",
       "    </tr>\n",
       "    <tr>\n",
       "      <th>29</th>\n",
       "      <td>6</td>\n",
       "      <td>BRCA1</td>\n",
       "      <td>53</td>\n",
       "    </tr>\n",
       "    <tr>\n",
       "      <th>30</th>\n",
       "      <td>6</td>\n",
       "      <td>TP53</td>\n",
       "      <td>5</td>\n",
       "    </tr>\n",
       "    <tr>\n",
       "      <th>31</th>\n",
       "      <td>6</td>\n",
       "      <td>BRAF</td>\n",
       "      <td>3</td>\n",
       "    </tr>\n",
       "    <tr>\n",
       "      <th>32</th>\n",
       "      <td>6</td>\n",
       "      <td>EGFR</td>\n",
       "      <td>1</td>\n",
       "    </tr>\n",
       "    <tr>\n",
       "      <th>33</th>\n",
       "      <td>6</td>\n",
       "      <td>KIT</td>\n",
       "      <td>1</td>\n",
       "    </tr>\n",
       "    <tr>\n",
       "      <th>34</th>\n",
       "      <td>7</td>\n",
       "      <td>EGFR</td>\n",
       "      <td>84</td>\n",
       "    </tr>\n",
       "    <tr>\n",
       "      <th>35</th>\n",
       "      <td>7</td>\n",
       "      <td>KIT</td>\n",
       "      <td>52</td>\n",
       "    </tr>\n",
       "    <tr>\n",
       "      <th>36</th>\n",
       "      <td>7</td>\n",
       "      <td>BRAF</td>\n",
       "      <td>48</td>\n",
       "    </tr>\n",
       "    <tr>\n",
       "      <th>37</th>\n",
       "      <td>7</td>\n",
       "      <td>PTEN</td>\n",
       "      <td>1</td>\n",
       "    </tr>\n",
       "    <tr>\n",
       "      <th>38</th>\n",
       "      <td>8</td>\n",
       "      <td>EGFR</td>\n",
       "      <td>1</td>\n",
       "    </tr>\n",
       "    <tr>\n",
       "      <th>39</th>\n",
       "      <td>9</td>\n",
       "      <td>TP53</td>\n",
       "      <td>1</td>\n",
       "    </tr>\n",
       "  </tbody>\n",
       "</table>\n",
       "</div>"
      ],
      "text/plain": [
       "    Class   Gene  Gene_num\n",
       "0       1   TP53        83\n",
       "1       1  BRCA1        60\n",
       "2       1  BRCA2        18\n",
       "3       1   PTEN         3\n",
       "4       1   EGFR         1\n",
       "5       2   EGFR        45\n",
       "6       2    KIT        44\n",
       "7       2   BRAF        31\n",
       "8       2   TP53         3\n",
       "9       3  BRCA1        15\n",
       "10      3   PTEN         5\n",
       "11      3   TP53         2\n",
       "12      3   BRAF         1\n",
       "13      3   EGFR         1\n",
       "14      3    KIT         1\n",
       "15      4   PTEN       115\n",
       "16      4   TP53        67\n",
       "17      4  BRCA1        46\n",
       "18      4   EGFR         5\n",
       "19      4  BRCA2         3\n",
       "20      4   BRAF         2\n",
       "21      4    KIT         1\n",
       "22      5  BRCA1        90\n",
       "23      5  BRCA2        20\n",
       "24      5   BRAF         8\n",
       "25      5   EGFR         3\n",
       "26      5   PTEN         2\n",
       "27      5   TP53         2\n",
       "28      6  BRCA2        84\n",
       "29      6  BRCA1        53\n",
       "30      6   TP53         5\n",
       "31      6   BRAF         3\n",
       "32      6   EGFR         1\n",
       "33      6    KIT         1\n",
       "34      7   EGFR        84\n",
       "35      7    KIT        52\n",
       "36      7   BRAF        48\n",
       "37      7   PTEN         1\n",
       "38      8   EGFR         1\n",
       "39      9   TP53         1"
      ]
     },
     "execution_count": 28,
     "metadata": {},
     "output_type": "execute_result"
    }
   ],
   "source": [
    "df_genein_classes"
   ]
  },
  {
   "cell_type": "markdown",
   "metadata": {},
   "source": [
    "As classes que apresentam maior numero de variações, terão em maior quantidade os genes que apresentam maior numero de variações? Os genes que possuem mior numero de variações estão no grafico da direita. As classes que apresentam maior numero de variações são a 7,4,2 respectivamente (olhar celula 17). No grafico da esquerda está justamente o numero de genes presentes do grafico da direita nas classes. Aparentemente não, pois eles estão presentes em boa quantidade em outras classes também, em algumas até mais do que nas listadas acima."
   ]
  },
  {
   "cell_type": "code",
   "execution_count": 30,
   "metadata": {},
   "outputs": [
    {
     "data": {
      "image/png": "[encoded data removed]",
      "text/plain": [
       "<Figure size 1728x576 with 2 Axes>"
      ]
     },
     "metadata": {
      "needs_background": "light"
     },
     "output_type": "display_data"
    }
   ],
   "source": [
    "import matplotlib.pyplot as plt\n",
    "import numpy as np\n",
    "\n",
    "plt.figure(figsize=(24,8))\n",
    "plt.subplot(1,2,1)\n",
    "r1 = np.arange(len(unicos[3]))\n",
    "\n",
    "plt.bar(r1, df_genein_classes.groupby('Class')['Gene_num'].sum(), color = '#6A5ACD', width=0.25, label = 'Classes')\n",
    "\n",
    "plt.xticks([x + 0.25 for x in range(len(unicos[3]))], [1,2,3,4,5,6,7,8,9])\n",
    "plt.xlabel('Classes')\n",
    "plt.ylabel('Numero de Genes')\n",
    "plt.title('O numero de Genes por Classe')\n",
    "plt.legend()\n",
    "\n",
    "plt.subplot(1,2,2)\n",
    "r1 = np.arange(len(df_maiorgene.Gene))\n",
    "\n",
    "\n",
    "plt.bar(r1, df_maiorgene['Variation'], color = '#6495ED', width=0.25, label = 'Genes')\n",
    "\n",
    "plt.xticks([x + 0.25 for x in range(len(df_maiorgene.Gene))], ['BRAF','BRCA1','BRCA2','EGFR','KIT','PTEN','TP53'])\n",
    "plt.xlabel('Genes')\n",
    "plt.ylabel('Variações')\n",
    "plt.title('Os genes com maior numero de Variações')\n",
    "plt.legend()\n",
    "\n",
    "\n",
    "\n",
    "plt.show()"
   ]
  },
  {
   "cell_type": "code",
   "execution_count": 31,
   "metadata": {},
   "outputs": [
    {
     "data": {
      "text/plain": [
       "<matplotlib.axes._subplots.AxesSubplot at 0x195fce3cb00>"
      ]
     },
     "execution_count": 31,
     "metadata": {},
     "output_type": "execute_result"
    },
    {
     "data": {
      "image/png": "[encoded data removed]",
      "text/plain": [
       "<Figure size 432x288 with 1 Axes>"
      ]
     },
     "metadata": {
      "needs_background": "light"
     },
     "output_type": "display_data"
    }
   ],
   "source": [
    "#olhando o balanceamento das classes\n",
    "import seaborn as sns\n",
    "sns.countplot(x='Class',data=variants_train)"
   ]
  },
  {
   "cell_type": "code",
   "execution_count": 32,
   "metadata": {},
   "outputs": [],
   "source": [
    "#dividindo os dados em treino e teste\n",
    "from sklearn.model_selection import train_test_split\n",
    "\n",
    "x = variants_train.iloc[:,1:3].astype(str)\n",
    "y = variants_train.iloc[:,3:]\n",
    "\n",
    "y = np.ravel(y)\n",
    "\n",
    "x_train,x_test,y_train,y_test = train_test_split(x,y,test_size=0.15)"
   ]
  },
  {
   "cell_type": "code",
   "execution_count": 33,
   "metadata": {},
   "outputs": [],
   "source": [
    "#fazendo o ordinal encoder e label encoder\n",
    "from sklearn.preprocessing import LabelEncoder\n",
    "from sklearn.preprocessing import OrdinalEncoder\n",
    "\n",
    "\n",
    "ordinal_encoder = OrdinalEncoder()\n",
    "x_ordtrain = ordinal_encoder.fit_transform(x_train)\n",
    "x_ordtest = ordinal_encoder.fit_transform(x_test)\n",
    "\n",
    "label_encoder = LabelEncoder()"
   ]
  },
  {
   "cell_type": "code",
   "execution_count": 34,
   "metadata": {},
   "outputs": [],
   "source": [
    "from keras.utils import np_utils\n",
    "label_encoder.fit(y_train)\n",
    "encoded_y = label_encoder.transform(y_train)\n",
    "y_train = np_utils.to_categorical(encoded_y)"
   ]
  },
  {
   "cell_type": "code",
   "execution_count": 35,
   "metadata": {},
   "outputs": [
    {
     "data": {
      "text/plain": [
       "(2822, 9)"
      ]
     },
     "execution_count": 35,
     "metadata": {},
     "output_type": "execute_result"
    }
   ],
   "source": [
    "y_train.shape"
   ]
  },
  {
   "cell_type": "code",
   "execution_count": 36,
   "metadata": {},
   "outputs": [
    {
     "data": {
      "text/plain": [
       "(499,)"
      ]
     },
     "execution_count": 36,
     "metadata": {},
     "output_type": "execute_result"
    }
   ],
   "source": [
    "y_test.shape"
   ]
  },
  {
   "cell_type": "code",
   "execution_count": 37,
   "metadata": {},
   "outputs": [
    {
     "data": {
      "text/plain": [
       "(2822, 2)"
      ]
     },
     "execution_count": 37,
     "metadata": {},
     "output_type": "execute_result"
    }
   ],
   "source": [
    "x_ordtrain.shape"
   ]
  },
  {
   "cell_type": "code",
   "execution_count": 38,
   "metadata": {},
   "outputs": [
    {
     "data": {
      "text/plain": [
       "(499, 2)"
      ]
     },
     "execution_count": 38,
     "metadata": {},
     "output_type": "execute_result"
    }
   ],
   "source": [
    "x_ordtest.shape"
   ]
  },
  {
   "cell_type": "code",
   "execution_count": 39,
   "metadata": {},
   "outputs": [
    {
     "name": "stdout",
     "output_type": "stream",
     "text": [
      "Best: 0.329204 using {'batch_size': 60, 'epochs': 200}\n",
      "0.186724 (0.045930) with: {'batch_size': 20, 'epochs': 10}\n",
      "0.258328 (0.008290) with: {'batch_size': 20, 'epochs': 50}\n",
      "0.313266 (0.025593) with: {'batch_size': 20, 'epochs': 100}\n",
      "0.231060 (0.072462) with: {'batch_size': 20, 'epochs': 150}\n",
      "0.237400 (0.043181) with: {'batch_size': 20, 'epochs': 200}\n",
      "0.266119 (0.016969) with: {'batch_size': 20, 'epochs': 250}\n",
      "0.294468 (0.008136) with: {'batch_size': 20, 'epochs': 300}\n",
      "0.239205 (0.026528) with: {'batch_size': 40, 'epochs': 10}\n",
      "0.270035 (0.042082) with: {'batch_size': 40, 'epochs': 50}\n",
      "0.265068 (0.043690) with: {'batch_size': 40, 'epochs': 100}\n",
      "0.267190 (0.023520) with: {'batch_size': 40, 'epochs': 150}\n",
      "0.280298 (0.010475) with: {'batch_size': 40, 'epochs': 200}\n",
      "0.286670 (0.012578) with: {'batch_size': 40, 'epochs': 250}\n",
      "0.242041 (0.029209) with: {'batch_size': 40, 'epochs': 300}\n",
      "0.176825 (0.016921) with: {'batch_size': 60, 'epochs': 10}\n",
      "0.291627 (0.019889) with: {'batch_size': 60, 'epochs': 50}\n",
      "0.273908 (0.022798) with: {'batch_size': 60, 'epochs': 100}\n",
      "0.291279 (0.008675) with: {'batch_size': 60, 'epochs': 150}\n",
      "0.329204 (0.020186) with: {'batch_size': 60, 'epochs': 200}\n",
      "0.273568 (0.007944) with: {'batch_size': 60, 'epochs': 250}\n",
      "0.279589 (0.017810) with: {'batch_size': 60, 'epochs': 300}\n",
      "0.195599 (0.014196) with: {'batch_size': 80, 'epochs': 10}\n",
      "0.262232 (0.040559) with: {'batch_size': 80, 'epochs': 50}\n",
      "0.285961 (0.014077) with: {'batch_size': 80, 'epochs': 100}\n",
      "0.304750 (0.038763) with: {'batch_size': 80, 'epochs': 150}\n",
      "0.317496 (0.025673) with: {'batch_size': 80, 'epochs': 200}\n",
      "0.307588 (0.010440) with: {'batch_size': 80, 'epochs': 250}\n",
      "0.294826 (0.004773) with: {'batch_size': 80, 'epochs': 300}\n",
      "0.192776 (0.016111) with: {'batch_size': 100, 'epochs': 10}\n",
      "0.231772 (0.056631) with: {'batch_size': 100, 'epochs': 50}\n",
      "0.265775 (0.028026) with: {'batch_size': 100, 'epochs': 100}\n",
      "0.299781 (0.015078) with: {'batch_size': 100, 'epochs': 150}\n",
      "0.277812 (0.010858) with: {'batch_size': 100, 'epochs': 200}\n",
      "0.300844 (0.022530) with: {'batch_size': 100, 'epochs': 250}\n",
      "0.275340 (0.008801) with: {'batch_size': 100, 'epochs': 300}\n"
     ]
    }
   ],
   "source": [
    "#construindo o modelo e treinando-o com o ordinal encoder e com um range de batch size e epochs\n",
    "from keras.models import Sequential\n",
    "from keras.layers import Dense\n",
    "from sklearn.model_selection import GridSearchCV\n",
    "from keras.wrappers.scikit_learn import KerasClassifier\n",
    "\n",
    "\n",
    "def cria_modelo_encodeord():\n",
    "    modelo = Sequential()\n",
    "    modelo.add(Dense(5, input_dim=2, activation='relu'))\n",
    "    modelo.add(Dense(9, activation='sigmoid'))\n",
    "    modelo.compile(loss='categorical_crossentropy',optimizer='adam',metrics=['accuracy'])\n",
    "    return modelo\n",
    "\n",
    "modelo = KerasClassifier(build_fn=cria_modelo_encodeord, verbose=0)\n",
    "\n",
    "batch_size = [20,40,60,80,100]\n",
    "epochs = [10,50,100,150,200,250,300]\n",
    "param_grid = dict(batch_size=batch_size,epochs=epochs)\n",
    "grid = GridSearchCV(estimator=modelo,param_grid=param_grid,n_jobs=-1,cv=3)\n",
    "grid_result = grid.fit(x_ordtrain,y_train)\n",
    "print('Best: %f using %s' % (grid_result.best_score_, grid_result.best_params_))\n",
    "means = grid_result.cv_results_['mean_test_score'] \n",
    "stds = grid_result.cv_results_['std_test_score'] \n",
    "params = grid_result.cv_results_['params'] \n",
    "for mean, std, param in zip(means,stds,params):\n",
    "    print('%f (%f) with: %r' % (mean,std,param))"
   ]
  },
  {
   "cell_type": "code",
   "execution_count": 40,
   "metadata": {},
   "outputs": [],
   "source": [
    "#normalizando os dados \n",
    "from sklearn.preprocessing import MinMaxScaler\n",
    "\n",
    "scaler = MinMaxScaler().fit(x_ordtrain)\n",
    "\n",
    "x_ordtrainscaled = scaler.transform(x_ordtrain)\n"
   ]
  },
  {
   "cell_type": "code",
   "execution_count": 41,
   "metadata": {},
   "outputs": [
    {
     "name": "stdout",
     "output_type": "stream",
     "text": [
      "Best: 0.361088 using {'batch_size': 20, 'epochs': 300}\n",
      "0.300854 (0.007944) with: {'batch_size': 20, 'epochs': 10}\n",
      "0.344433 (0.017980) with: {'batch_size': 20, 'epochs': 50}\n",
      "0.354350 (0.017069) with: {'batch_size': 20, 'epochs': 100}\n",
      "0.355419 (0.006804) with: {'batch_size': 20, 'epochs': 150}\n",
      "0.357896 (0.012545) with: {'batch_size': 20, 'epochs': 200}\n",
      "0.357899 (0.009624) with: {'batch_size': 20, 'epochs': 250}\n",
      "0.361088 (0.010056) with: {'batch_size': 20, 'epochs': 300}\n",
      "0.290217 (0.007616) with: {'batch_size': 40, 'epochs': 10}\n",
      "0.360029 (0.014323) with: {'batch_size': 40, 'epochs': 50}\n",
      "0.351166 (0.010959) with: {'batch_size': 40, 'epochs': 100}\n",
      "0.360378 (0.011583) with: {'batch_size': 40, 'epochs': 150}\n",
      "0.351518 (0.012883) with: {'batch_size': 40, 'epochs': 200}\n",
      "0.357540 (0.015413) with: {'batch_size': 40, 'epochs': 250}\n",
      "0.352582 (0.011171) with: {'batch_size': 40, 'epochs': 300}\n",
      "0.256202 (0.028214) with: {'batch_size': 60, 'epochs': 10}\n",
      "0.347982 (0.011045) with: {'batch_size': 60, 'epochs': 50}\n",
      "0.357188 (0.010915) with: {'batch_size': 60, 'epochs': 100}\n",
      "0.355769 (0.018196) with: {'batch_size': 60, 'epochs': 150}\n",
      "0.358956 (0.018389) with: {'batch_size': 60, 'epochs': 200}\n",
      "0.353289 (0.013671) with: {'batch_size': 60, 'epochs': 250}\n",
      "0.356834 (0.012034) with: {'batch_size': 60, 'epochs': 300}\n",
      "0.291280 (0.007299) with: {'batch_size': 80, 'epochs': 10}\n",
      "0.356130 (0.012595) with: {'batch_size': 80, 'epochs': 50}\n",
      "0.357540 (0.016666) with: {'batch_size': 80, 'epochs': 100}\n",
      "0.356125 (0.012868) with: {'batch_size': 80, 'epochs': 150}\n",
      "0.353292 (0.012539) with: {'batch_size': 80, 'epochs': 200}\n",
      "0.360379 (0.008118) with: {'batch_size': 80, 'epochs': 250}\n",
      "0.355770 (0.011675) with: {'batch_size': 80, 'epochs': 300}\n",
      "0.228581 (0.039965) with: {'batch_size': 100, 'epochs': 10}\n",
      "0.325305 (0.017485) with: {'batch_size': 100, 'epochs': 50}\n",
      "0.354006 (0.020209) with: {'batch_size': 100, 'epochs': 100}\n",
      "0.355772 (0.008693) with: {'batch_size': 100, 'epochs': 150}\n",
      "0.358961 (0.008863) with: {'batch_size': 100, 'epochs': 200}\n",
      "0.350101 (0.013781) with: {'batch_size': 100, 'epochs': 250}\n",
      "0.358961 (0.008604) with: {'batch_size': 100, 'epochs': 300}\n"
     ]
    }
   ],
   "source": [
    "#treinando com os dados normalizados e ordinal encoder e apresentaram uma melhor acuracia\n",
    "grid_result = grid.fit(x_ordtrainscaled,y_train)\n",
    "print('Best: %f using %s' % (grid_result.best_score_, grid_result.best_params_))\n",
    "means = grid_result.cv_results_['mean_test_score'] \n",
    "stds = grid_result.cv_results_['std_test_score'] \n",
    "params = grid_result.cv_results_['params'] \n",
    "for mean, std, param in zip(means,stds,params):\n",
    "    print('%f (%f) with: %r' % (mean,std,param))"
   ]
  },
  {
   "cell_type": "code",
   "execution_count": 45,
   "metadata": {},
   "outputs": [],
   "source": [
    "#fazendo o balenceamento dos dados\n",
    "from imblearn.over_sampling import SMOTE\n",
    "import warnings\n",
    "warnings.filterwarnings('ignore')\n",
    "\n",
    "oversample = SMOTE() \n",
    "x_train_ordsmoted, y_train_ordsmoted = oversample.fit_resample(x_ordtrainscaled,y_train)"
   ]
  },
  {
   "cell_type": "code",
   "execution_count": 44,
   "metadata": {},
   "outputs": [
    {
     "data": {
      "text/plain": [
       "array([[0, 0, 0, ..., 1, 0, 0],\n",
       "       [0, 1, 0, ..., 0, 0, 0],\n",
       "       [0, 0, 0, ..., 0, 0, 0],\n",
       "       ...,\n",
       "       [0, 0, 0, ..., 0, 0, 1],\n",
       "       [0, 0, 0, ..., 0, 0, 1],\n",
       "       [0, 0, 0, ..., 0, 0, 1]])"
      ]
     },
     "execution_count": 44,
     "metadata": {},
     "output_type": "execute_result"
    }
   ],
   "source": [
    "y_train_ordsmoted"
   ]
  },
  {
   "cell_type": "code",
   "execution_count": 46,
   "metadata": {},
   "outputs": [
    {
     "name": "stdout",
     "output_type": "stream",
     "text": [
      "Best: 0.039740 using {'batch_size': 40, 'epochs': 250}\n",
      "0.007840 (0.005680) with: {'batch_size': 20, 'epochs': 10}\n",
      "0.021492 (0.016088) with: {'batch_size': 20, 'epochs': 50}\n",
      "0.016491 (0.012583) with: {'batch_size': 20, 'epochs': 100}\n",
      "0.022438 (0.015703) with: {'batch_size': 20, 'epochs': 150}\n",
      "0.035415 (0.019044) with: {'batch_size': 20, 'epochs': 200}\n",
      "0.026494 (0.014289) with: {'batch_size': 20, 'epochs': 250}\n",
      "0.038659 (0.013915) with: {'batch_size': 20, 'epochs': 300}\n",
      "0.007705 (0.005511) with: {'batch_size': 40, 'epochs': 10}\n",
      "0.019870 (0.019501) with: {'batch_size': 40, 'epochs': 50}\n",
      "0.026899 (0.023808) with: {'batch_size': 40, 'epochs': 100}\n",
      "0.021898 (0.009146) with: {'batch_size': 40, 'epochs': 150}\n",
      "0.030278 (0.021069) with: {'batch_size': 40, 'epochs': 200}\n",
      "0.039740 (0.017928) with: {'batch_size': 40, 'epochs': 250}\n",
      "0.029738 (0.014570) with: {'batch_size': 40, 'epochs': 300}\n",
      "0.008381 (0.007524) with: {'batch_size': 60, 'epochs': 10}\n",
      "0.021627 (0.014812) with: {'batch_size': 60, 'epochs': 50}\n",
      "0.015410 (0.008036) with: {'batch_size': 60, 'epochs': 100}\n",
      "0.027845 (0.007026) with: {'batch_size': 60, 'epochs': 150}\n",
      "0.019330 (0.010028) with: {'batch_size': 60, 'epochs': 200}\n",
      "0.026629 (0.017193) with: {'batch_size': 60, 'epochs': 250}\n",
      "0.030954 (0.013121) with: {'batch_size': 60, 'epochs': 300}\n",
      "0.007975 (0.005661) with: {'batch_size': 80, 'epochs': 10}\n",
      "0.015815 (0.012384) with: {'batch_size': 80, 'epochs': 50}\n",
      "0.018654 (0.005161) with: {'batch_size': 80, 'epochs': 100}\n",
      "0.023114 (0.017131) with: {'batch_size': 80, 'epochs': 150}\n",
      "0.023655 (0.013939) with: {'batch_size': 80, 'epochs': 200}\n",
      "0.031495 (0.020465) with: {'batch_size': 80, 'epochs': 250}\n",
      "0.026494 (0.015134) with: {'batch_size': 80, 'epochs': 300}\n",
      "0.002974 (0.004206) with: {'batch_size': 100, 'epochs': 10}\n",
      "0.027305 (0.007949) with: {'batch_size': 100, 'epochs': 50}\n",
      "0.010273 (0.010766) with: {'batch_size': 100, 'epochs': 100}\n",
      "0.018113 (0.013673) with: {'batch_size': 100, 'epochs': 150}\n",
      "0.018113 (0.015250) with: {'batch_size': 100, 'epochs': 200}\n",
      "0.024736 (0.012446) with: {'batch_size': 100, 'epochs': 250}\n",
      "0.029738 (0.014860) with: {'batch_size': 100, 'epochs': 300}\n"
     ]
    }
   ],
   "source": [
    "#testando o modelo com os dados normalizados, encoder e balanceados e houve uma piora\n",
    "grid_result = grid.fit(x_train_ordsmoted, y_train_ordsmoted)\n",
    "print('Best: %f using %s' % (grid_result.best_score_, grid_result.best_params_))\n",
    "means = grid_result.cv_results_['mean_test_score'] \n",
    "stds = grid_result.cv_results_['std_test_score'] \n",
    "params = grid_result.cv_results_['params'] \n",
    "for mean, std, param in zip(means,stds,params):\n",
    "    print('%f (%f) with: %r' % (mean,std,param))"
   ]
  },
  {
   "cell_type": "code",
   "execution_count": 47,
   "metadata": {},
   "outputs": [],
   "source": [
    "#fazendo o one hot encoder para testar em novo modelo\n",
    "from sklearn.preprocessing import OneHotEncoder\n",
    "\n",
    "onehot_encoder = OneHotEncoder(sparse=False)\n",
    "x_hot = onehot_encoder.fit_transform(x)"
   ]
  },
  {
   "cell_type": "code",
   "execution_count": 48,
   "metadata": {},
   "outputs": [],
   "source": [
    "x_hottrain,x_hottest,y_train,y_test = train_test_split(x_hot,y,test_size=0.15)"
   ]
  },
  {
   "cell_type": "code",
   "execution_count": 49,
   "metadata": {},
   "outputs": [],
   "source": [
    "label_encoder.fit(y_train)\n",
    "encoded_y = label_encoder.transform(y_train)\n",
    "y_train = np_utils.to_categorical(encoded_y)"
   ]
  },
  {
   "cell_type": "code",
   "execution_count": 54,
   "metadata": {},
   "outputs": [
    {
     "data": {
      "text/plain": [
       "(2822, 9)"
      ]
     },
     "execution_count": 54,
     "metadata": {},
     "output_type": "execute_result"
    }
   ],
   "source": [
    "y_train.shape"
   ]
  },
  {
   "cell_type": "code",
   "execution_count": 50,
   "metadata": {},
   "outputs": [
    {
     "data": {
      "text/plain": [
       "(2822, 3260)"
      ]
     },
     "execution_count": 50,
     "metadata": {},
     "output_type": "execute_result"
    }
   ],
   "source": [
    "x_hottrain.shape"
   ]
  },
  {
   "cell_type": "code",
   "execution_count": 51,
   "metadata": {},
   "outputs": [
    {
     "data": {
      "text/plain": [
       "(499, 3260)"
      ]
     },
     "execution_count": 51,
     "metadata": {},
     "output_type": "execute_result"
    }
   ],
   "source": [
    "x_hottest.shape"
   ]
  },
  {
   "cell_type": "code",
   "execution_count": 52,
   "metadata": {},
   "outputs": [],
   "source": [
    "#fazendo a redução de dimensionalidade\n",
    "#eu testei com outro numeros de componentes, porem demorava muito\n",
    "#por isso optei por 40 por ter um tempo razoavel de treino no meu computador\n",
    "from sklearn.decomposition import PCA\n",
    "from sklearn.preprocessing import Normalizer\n",
    "\n",
    "normalizer = Normalizer().fit(x_hottrain)\n",
    "x_hottrainnormalized = normalizer.transform(x_hottrain)\n",
    "\n",
    "pca = PCA(n_components=40)\n",
    "pca_x = pca.fit_transform(x_hottrainnormalized)"
   ]
  },
  {
   "cell_type": "code",
   "execution_count": 73,
   "metadata": {},
   "outputs": [
    {
     "name": "stdout",
     "output_type": "stream",
     "text": [
      "Best: 0.557052 using {'batch_size': 60, 'epochs': 300}\n",
      "0.524807 (0.009672) with: {'batch_size': 20, 'epochs': 50}\n",
      "0.537564 (0.013904) with: {'batch_size': 20, 'epochs': 100}\n",
      "0.552091 (0.021313) with: {'batch_size': 20, 'epochs': 200}\n",
      "0.551030 (0.020889) with: {'batch_size': 20, 'epochs': 300}\n",
      "0.517011 (0.015481) with: {'batch_size': 40, 'epochs': 50}\n",
      "0.528701 (0.015837) with: {'batch_size': 40, 'epochs': 100}\n",
      "0.555988 (0.025193) with: {'batch_size': 40, 'epochs': 200}\n",
      "0.551738 (0.020225) with: {'batch_size': 40, 'epochs': 300}\n",
      "0.516654 (0.017398) with: {'batch_size': 60, 'epochs': 50}\n",
      "0.534375 (0.016435) with: {'batch_size': 60, 'epochs': 100}\n",
      "0.551030 (0.020043) with: {'batch_size': 60, 'epochs': 200}\n",
      "0.557052 (0.026485) with: {'batch_size': 60, 'epochs': 300}\n",
      "0.510630 (0.017499) with: {'batch_size': 80, 'epochs': 50}\n",
      "0.526578 (0.013784) with: {'batch_size': 80, 'epochs': 100}\n",
      "0.540043 (0.014353) with: {'batch_size': 80, 'epochs': 200}\n",
      "0.555635 (0.023948) with: {'batch_size': 80, 'epochs': 300}\n"
     ]
    }
   ],
   "source": [
    "#treinando o modelo com os dados redimensionados e one hot encode\n",
    "#também testando range de batch size e epochs\n",
    "def cria_modelo_encodehot():\n",
    "    modelo = Sequential()\n",
    "    modelo.add(Dense(40, input_dim=40, activation='relu'))\n",
    "    modelo.add(Dense(9, activation='sigmoid'))\n",
    "    modelo.compile(loss='categorical_crossentropy',optimizer='adam',metrics=['accuracy'])\n",
    "    return modelo\n",
    "\n",
    "modelo2 = KerasClassifier(build_fn=cria_modelo_encodehot, verbose=0)\n",
    "\n",
    "batch_size = [20,40,60,80]\n",
    "epochs = [50,100,200,300]\n",
    "param_grid2 = dict(batch_size=batch_size,epochs=epochs)\n",
    "grid2 = GridSearchCV(estimator=modelo2,param_grid=param_grid2,n_jobs=-1,cv=3)\n",
    "grid_result2 = grid2.fit(pca_x,y_train)\n",
    "print('Best: %f using %s' % (grid_result2.best_score_, grid_result2.best_params_))\n",
    "means2 = grid_result2.cv_results_['mean_test_score'] \n",
    "stds2 = grid_result2.cv_results_['std_test_score'] \n",
    "params2 = grid_result2.cv_results_['params'] \n",
    "for mean, std, param in zip(means2,stds2,params2):\n",
    "    print('%f (%f) with: %r' % (mean,std,param))"
   ]
  },
  {
   "cell_type": "code",
   "execution_count": 55,
   "metadata": {},
   "outputs": [],
   "source": [
    "x_train_hotsmoted, y_train_hotsmoted = oversample.fit_resample(x_hottrain,y_train)"
   ]
  },
  {
   "cell_type": "code",
   "execution_count": 56,
   "metadata": {},
   "outputs": [],
   "source": [
    "x_hottrainnormalized_smoted = normalizer.transform(x_train_hotsmoted)"
   ]
  },
  {
   "cell_type": "code",
   "execution_count": 57,
   "metadata": {},
   "outputs": [],
   "source": [
    "pca_xsmoted = pca.fit_transform(x_hottrainnormalized_smoted)"
   ]
  },
  {
   "cell_type": "code",
   "execution_count": 74,
   "metadata": {},
   "outputs": [
    {
     "name": "stdout",
     "output_type": "stream",
     "text": [
      "Best: 0.536021 using {'batch_size': 40, 'epochs': 300}\n",
      "0.472291 (0.139985) with: {'batch_size': 20, 'epochs': 50}\n",
      "0.508174 (0.154405) with: {'batch_size': 20, 'epochs': 100}\n",
      "0.519534 (0.144436) with: {'batch_size': 20, 'epochs': 200}\n",
      "0.530756 (0.152073) with: {'batch_size': 20, 'epochs': 300}\n",
      "0.414104 (0.073510) with: {'batch_size': 40, 'epochs': 50}\n",
      "0.480188 (0.135414) with: {'batch_size': 40, 'epochs': 100}\n",
      "0.511776 (0.140710) with: {'batch_size': 40, 'epochs': 200}\n",
      "0.536021 (0.138850) with: {'batch_size': 40, 'epochs': 300}\n",
      "0.381823 (0.042283) with: {'batch_size': 60, 'epochs': 50}\n",
      "0.484345 (0.138446) with: {'batch_size': 60, 'epochs': 100}\n",
      "0.502078 (0.143714) with: {'batch_size': 60, 'epochs': 200}\n",
      "0.521058 (0.144712) with: {'batch_size': 60, 'epochs': 300}\n",
      "0.359241 (0.045938) with: {'batch_size': 80, 'epochs': 50}\n",
      "0.465641 (0.146836) with: {'batch_size': 80, 'epochs': 100}\n",
      "0.488362 (0.126962) with: {'batch_size': 80, 'epochs': 200}\n",
      "0.514686 (0.147710) with: {'batch_size': 80, 'epochs': 300}\n"
     ]
    }
   ],
   "source": [
    "#testando com os dados balanceados e houve uma piora\n",
    "grid2 = GridSearchCV(estimator=modelo2,param_grid=param_grid2,n_jobs=-1,cv=3)\n",
    "grid_result2 = grid2.fit(pca_xsmoted,y_train_hotsmoted)\n",
    "print('Best: %f using %s' % (grid_result2.best_score_, grid_result2.best_params_))\n",
    "means2 = grid_result2.cv_results_['mean_test_score'] \n",
    "stds2 = grid_result2.cv_results_['std_test_score'] \n",
    "params2 = grid_result2.cv_results_['params'] \n",
    "for mean, std, param in zip(means2,stds2,params2):\n",
    "    print('%f (%f) with: %r' % (mean,std,param))"
   ]
  },
  {
   "cell_type": "code",
   "execution_count": 75,
   "metadata": {},
   "outputs": [
    {
     "name": "stdout",
     "output_type": "stream",
     "text": [
      "Best: 0.557760 using {'optimizer': 'Nadam'}\n",
      "0.508505 (0.019104) with: {'optimizer': 'SGD'}\n",
      "0.555989 (0.024751) with: {'optimizer': 'RMSprop'}\n",
      "0.387666 (0.013069) with: {'optimizer': 'Adagrad'}\n",
      "0.214385 (0.033335) with: {'optimizer': 'Adadelta'}\n",
      "0.555635 (0.023867) with: {'optimizer': 'Adam'}\n",
      "0.527284 (0.015582) with: {'optimizer': 'Adamax'}\n",
      "0.557760 (0.025222) with: {'optimizer': 'Nadam'}\n"
     ]
    }
   ],
   "source": [
    "#aqui segui somente com os dados redimensionados e one hot encode\n",
    "#e com os melhores valores de batch size e epochs\n",
    "#agora testando os otimizadores\n",
    "def cria_modelo_encodehot(optimizer='Adam'):\n",
    "    modelo = Sequential()\n",
    "    modelo.add(Dense(40, input_dim=40, activation='relu'))\n",
    "    modelo.add(Dense(9, activation='sigmoid'))\n",
    "    modelo.compile(loss='categorical_crossentropy',optimizer=optimizer,metrics=['accuracy'])\n",
    "    return modelo\n",
    "\n",
    "modelo3 = KerasClassifier(build_fn=cria_modelo_encodehot, epochs=300, batch_size=60, verbose=0)\n",
    "\n",
    "\n",
    "optimizer = ['SGD','RMSprop','Adagrad','Adadelta','Adam','Adamax','Nadam']\n",
    "param_grid3 = dict(optimizer=optimizer)\n",
    "grid3 = GridSearchCV(estimator=modelo3,param_grid=param_grid3,n_jobs=-1,cv=3)\n",
    "grid_result3 = grid3.fit(pca_x,y_train)\n",
    "print('Best: %f using %s' % (grid_result3.best_score_, grid_result3.best_params_))\n",
    "means3 = grid_result3.cv_results_['mean_test_score'] \n",
    "stds3 = grid_result3.cv_results_['std_test_score'] \n",
    "params3 = grid_result3.cv_results_['params'] \n",
    "for mean, std, param in zip(means3,stds3,params3):\n",
    "    print('%f (%f) with: %r' % (mean,std,param))"
   ]
  },
  {
   "cell_type": "code",
   "execution_count": 76,
   "metadata": {},
   "outputs": [
    {
     "name": "stdout",
     "output_type": "stream",
     "text": [
      "Best: 0.558116 using {'init_mode': 'glorot_uniform'}\n",
      "0.546779 (0.020930) with: {'init_mode': 'uniform'}\n",
      "0.557053 (0.026092) with: {'init_mode': 'lecun_uniform'}\n",
      "0.550320 (0.018766) with: {'init_mode': 'normal'}\n",
      "0.284202 (0.020928) with: {'init_mode': 'zero'}\n",
      "0.552447 (0.019565) with: {'init_mode': 'glorot_normal'}\n",
      "0.558116 (0.024859) with: {'init_mode': 'glorot_uniform'}\n",
      "0.556344 (0.025643) with: {'init_mode': 'he_normal'}\n",
      "0.557053 (0.026586) with: {'init_mode': 'he_uniform'}\n"
     ]
    }
   ],
   "source": [
    "#seguindo com o melhor otimizador\n",
    "#testando o modo de inicialização\n",
    "def cria_modelo_encodehot(init_mode='uniform'):\n",
    "    modelo = Sequential()\n",
    "    modelo.add(Dense(40, input_dim=40, kernel_initializer=init_mode, activation='relu'))\n",
    "    modelo.add(Dense(9, kernel_initializer=init_mode, activation='sigmoid'))\n",
    "    modelo.compile(loss='categorical_crossentropy',optimizer='Nadam',metrics=['accuracy'])\n",
    "    return modelo\n",
    "\n",
    "modelo4 = KerasClassifier(build_fn=cria_modelo_encodehot, epochs=300, batch_size=60, verbose=0)\n",
    "\n",
    "\n",
    "init_mode = ['uniform','lecun_uniform','normal','zero','glorot_normal','glorot_uniform','he_normal','he_uniform']\n",
    "param_grid4 = dict(init_mode=init_mode)\n",
    "grid4 = GridSearchCV(estimator=modelo4,param_grid=param_grid4,n_jobs=-1,cv=3)\n",
    "grid_result4 = grid4.fit(pca_x,y_train)\n",
    "print('Best: %f using %s' % (grid_result4.best_score_, grid_result4.best_params_))\n",
    "means = grid_result4.cv_results_['mean_test_score'] \n",
    "stds = grid_result4.cv_results_['std_test_score'] \n",
    "params = grid_result4.cv_results_['params'] \n",
    "for mean, std, param in zip(means,stds,params):\n",
    "    print('%f (%f) with: %r' % (mean,std,param))"
   ]
  },
  {
   "cell_type": "code",
   "execution_count": 77,
   "metadata": {},
   "outputs": [
    {
     "name": "stdout",
     "output_type": "stream",
     "text": [
      "Best: 0.552447 using {'activation': 'relu'}\n",
      "0.523741 (0.021404) with: {'activation': 'softmax'}\n",
      "0.541462 (0.015847) with: {'activation': 'softsign'}\n",
      "0.552447 (0.021261) with: {'activation': 'relu'}\n",
      "0.532601 (0.011758) with: {'activation': 'tanh'}\n"
     ]
    }
   ],
   "source": [
    "#seguindo com o melhor modo de inicialização\n",
    "#testando o modo de ativação\n",
    "def cria_modelo_encodehot(activation='relu'):\n",
    "    modelo = Sequential()\n",
    "    modelo.add(Dense(40, input_dim=40, kernel_initializer='glorot_uniform', activation=activation))\n",
    "    modelo.add(Dense(9, kernel_initializer='glorot_uniform', activation='sigmoid'))\n",
    "    modelo.compile(loss='categorical_crossentropy',optimizer='Nadam',metrics=['accuracy'])\n",
    "    return modelo\n",
    "\n",
    "modelo4 = KerasClassifier(build_fn=cria_modelo_encodehot, epochs=300, batch_size=60, verbose=0)\n",
    "\n",
    "\n",
    "activation = ['softmax','softsign','relu','tanh']\n",
    "param_grid4 = dict(activation=activation)\n",
    "grid4 = GridSearchCV(estimator=modelo4,param_grid=param_grid4,n_jobs=-1,cv=3)\n",
    "grid_result4 = grid4.fit(pca_x,y_train)\n",
    "print('Best: %f using %s' % (grid_result4.best_score_, grid_result4.best_params_))\n",
    "means = grid_result4.cv_results_['mean_test_score'] \n",
    "stds = grid_result4.cv_results_['std_test_score'] \n",
    "params = grid_result4.cv_results_['params'] \n",
    "for mean, std, param in zip(means,stds,params):\n",
    "    print('%f (%f) with: %r' % (mean,std,param))"
   ]
  },
  {
   "cell_type": "code",
   "execution_count": 78,
   "metadata": {},
   "outputs": [
    {
     "name": "stdout",
     "output_type": "stream",
     "text": [
      "Best: 0.571930 using {'learn_rate': 0.01}\n",
      "0.554571 (0.025602) with: {'learn_rate': 0.001}\n",
      "0.571930 (0.022490) with: {'learn_rate': 0.01}\n",
      "0.540400 (0.015669) with: {'learn_rate': 0.1}\n"
     ]
    }
   ],
   "source": [
    "#aqui eu testei  um range de taxa de aprendizado com um diferente otimizador,\n",
    "#mas mantendo os outros parametros\n",
    "from keras.optimizers import Adam\n",
    "def cria_modelo_encodehot(learn_rate=0.01):\n",
    "    modelo = Sequential()\n",
    "    modelo.add(Dense(40, input_dim=40, kernel_initializer='glorot_uniform', activation='relu'))\n",
    "    modelo.add(Dense(9, kernel_initializer='glorot_uniform', activation='sigmoid'))\n",
    "    optimizer = Adam(learning_rate=learn_rate)\n",
    "    modelo.compile(loss='categorical_crossentropy',optimizer=optimizer,metrics=['accuracy'])\n",
    "    return modelo\n",
    "\n",
    "modelo5 = KerasClassifier(build_fn=cria_modelo_encodehot, epochs=300, batch_size=60, verbose=0)\n",
    "\n",
    "\n",
    "learn_rate = [0.001,0.01,0.1]\n",
    "param_grid5 = dict(learn_rate=learn_rate)\n",
    "grid5 = GridSearchCV(estimator=modelo5,param_grid=param_grid5,n_jobs=-1,cv=3)\n",
    "grid_result5 = grid5.fit(pca_x,y_train)\n",
    "print('Best: %f using %s' % (grid_result5.best_score_, grid_result5.best_params_))\n",
    "means = grid_result5.cv_results_['mean_test_score'] \n",
    "stds = grid_result5.cv_results_['std_test_score'] \n",
    "params = grid_result5.cv_results_['params'] \n",
    "for mean, std, param in zip(means,stds,params):\n",
    "    print('%f (%f) with: %r' % (mean,std,param))"
   ]
  },
  {
   "cell_type": "code",
   "execution_count": 79,
   "metadata": {},
   "outputs": [
    {
     "name": "stdout",
     "output_type": "stream",
     "text": [
      "Best: 0.569807 using {'dropout_rate': 0.0, 'weight_constraint': 5}\n",
      "0.547842 (0.024200) with: {'dropout_rate': 0.0, 'weight_constraint': 1}\n",
      "0.547838 (0.021704) with: {'dropout_rate': 0.0, 'weight_constraint': 2}\n",
      "0.561305 (0.020548) with: {'dropout_rate': 0.0, 'weight_constraint': 3}\n",
      "0.562012 (0.015216) with: {'dropout_rate': 0.0, 'weight_constraint': 4}\n",
      "0.569807 (0.018705) with: {'dropout_rate': 0.0, 'weight_constraint': 5}\n",
      "0.547487 (0.027888) with: {'dropout_rate': 0.1, 'weight_constraint': 1}\n",
      "0.555286 (0.021570) with: {'dropout_rate': 0.1, 'weight_constraint': 2}\n",
      "0.557763 (0.029812) with: {'dropout_rate': 0.1, 'weight_constraint': 3}\n",
      "0.566621 (0.029685) with: {'dropout_rate': 0.1, 'weight_constraint': 4}\n",
      "0.562363 (0.026815) with: {'dropout_rate': 0.1, 'weight_constraint': 5}\n",
      "0.545712 (0.025174) with: {'dropout_rate': 0.2, 'weight_constraint': 1}\n",
      "0.549254 (0.020777) with: {'dropout_rate': 0.2, 'weight_constraint': 2}\n",
      "0.553865 (0.019936) with: {'dropout_rate': 0.2, 'weight_constraint': 3}\n",
      "0.560241 (0.021694) with: {'dropout_rate': 0.2, 'weight_constraint': 4}\n",
      "0.566971 (0.027979) with: {'dropout_rate': 0.2, 'weight_constraint': 5}\n",
      "0.534379 (0.023984) with: {'dropout_rate': 0.3, 'weight_constraint': 1}\n",
      "0.554216 (0.020444) with: {'dropout_rate': 0.3, 'weight_constraint': 2}\n",
      "0.548900 (0.022670) with: {'dropout_rate': 0.3, 'weight_constraint': 3}\n",
      "0.555989 (0.021283) with: {'dropout_rate': 0.3, 'weight_constraint': 4}\n",
      "0.555988 (0.026469) with: {'dropout_rate': 0.3, 'weight_constraint': 5}\n",
      "0.529766 (0.016503) with: {'dropout_rate': 0.4, 'weight_constraint': 1}\n",
      "0.552801 (0.021940) with: {'dropout_rate': 0.4, 'weight_constraint': 2}\n",
      "0.558472 (0.022101) with: {'dropout_rate': 0.4, 'weight_constraint': 3}\n",
      "0.558826 (0.021848) with: {'dropout_rate': 0.4, 'weight_constraint': 4}\n",
      "0.559536 (0.022732) with: {'dropout_rate': 0.4, 'weight_constraint': 5}\n",
      "0.531186 (0.016193) with: {'dropout_rate': 0.5, 'weight_constraint': 1}\n",
      "0.540052 (0.019822) with: {'dropout_rate': 0.5, 'weight_constraint': 2}\n",
      "0.554930 (0.025347) with: {'dropout_rate': 0.5, 'weight_constraint': 3}\n",
      "0.554928 (0.021969) with: {'dropout_rate': 0.5, 'weight_constraint': 4}\n",
      "0.558473 (0.020816) with: {'dropout_rate': 0.5, 'weight_constraint': 5}\n"
     ]
    }
   ],
   "source": [
    "#seguindo com a melhor taxa de aprendizado\n",
    "#testando o weight constraint e dropoiy rate\n",
    "from keras.constraints import maxnorm\n",
    "from keras.layers import Dropout\n",
    "def cria_modelo_encodehot(dropout_rate=0.0,weight_constraint=0):\n",
    "    modelo = Sequential()\n",
    "    modelo.add(Dense(40, input_dim=40, kernel_initializer='glorot_uniform', activation='relu',kernel_constraint=maxnorm(weight_constraint)))\n",
    "    modelo.add(Dropout(dropout_rate))\n",
    "    modelo.add(Dense(9, kernel_initializer='glorot_uniform', activation='sigmoid'))\n",
    "    optimizer = Adam(learning_rate=0.01)\n",
    "    modelo.compile(loss='categorical_crossentropy',optimizer=optimizer,metrics=['accuracy'])\n",
    "    return modelo\n",
    "\n",
    "modelo6 = KerasClassifier(build_fn=cria_modelo_encodehot, epochs=300, batch_size=60, verbose=0)\n",
    "\n",
    "\n",
    "weight_constraint = [1,2,3,4,5]\n",
    "dropout_rate = [0.0,0.1,0.2,0.3,0.4,0.5]\n",
    "param_grid6 = dict(dropout_rate=dropout_rate,weight_constraint=weight_constraint)\n",
    "grid6 = GridSearchCV(estimator=modelo6,param_grid=param_grid6,n_jobs=-1,cv=3)\n",
    "grid_result6 = grid6.fit(pca_x,y_train)\n",
    "print('Best: %f using %s' % (grid_result6.best_score_, grid_result6.best_params_))\n",
    "means = grid_result6.cv_results_['mean_test_score'] \n",
    "stds = grid_result6.cv_results_['std_test_score'] \n",
    "params = grid_result6.cv_results_['params'] \n",
    "for mean, std, param in zip(means,stds,params):\n",
    "    print('%f (%f) with: %r' % (mean,std,param))"
   ]
  },
  {
   "cell_type": "code",
   "execution_count": 80,
   "metadata": {},
   "outputs": [
    {
     "name": "stdout",
     "output_type": "stream",
     "text": [
      "Best: 0.572641 using {'neurons': 140}\n",
      "0.558821 (0.025604) with: {'neurons': 10}\n",
      "0.571581 (0.023868) with: {'neurons': 20}\n",
      "0.570512 (0.023408) with: {'neurons': 30}\n",
      "0.567680 (0.022679) with: {'neurons': 40}\n",
      "0.569096 (0.021721) with: {'neurons': 50}\n",
      "0.569454 (0.028635) with: {'neurons': 60}\n",
      "0.567326 (0.017987) with: {'neurons': 70}\n",
      "0.569094 (0.027486) with: {'neurons': 80}\n",
      "0.558470 (0.010954) with: {'neurons': 90}\n",
      "0.569452 (0.019666) with: {'neurons': 100}\n",
      "0.567683 (0.010896) with: {'neurons': 110}\n",
      "0.557757 (0.009550) with: {'neurons': 120}\n",
      "0.569450 (0.019796) with: {'neurons': 130}\n",
      "0.572641 (0.023050) with: {'neurons': 140}\n",
      "0.566618 (0.015577) with: {'neurons': 150}\n",
      "0.571221 (0.021403) with: {'neurons': 160}\n",
      "0.572285 (0.020100) with: {'neurons': 170}\n",
      "0.568387 (0.024379) with: {'neurons': 180}\n",
      "0.566260 (0.018958) with: {'neurons': 190}\n",
      "0.562010 (0.014524) with: {'neurons': 200}\n"
     ]
    }
   ],
   "source": [
    "#segui sem os weight constraint e dropout rate\n",
    "#e agora testando o numero de neuronios\n",
    "def cria_modelo_encodehot(neurons=10):\n",
    "    modelo = Sequential()\n",
    "    modelo.add(Dense(neurons, input_dim=40, kernel_initializer='glorot_uniform', activation='relu'))\n",
    "    modelo.add(Dense(9, kernel_initializer='glorot_uniform', activation='sigmoid'))\n",
    "    optimizer = Adam(learning_rate=0.01)\n",
    "    modelo.compile(loss='categorical_crossentropy',optimizer=optimizer,metrics=['accuracy'])\n",
    "    return modelo\n",
    "\n",
    "modelo7 = KerasClassifier(build_fn=cria_modelo_encodehot, epochs=300, batch_size=60, verbose=0)\n",
    "\n",
    "\n",
    "neurons = list(range(10,210,10))\n",
    "param_grid7 = dict(neurons=neurons)\n",
    "grid7 = GridSearchCV(estimator=modelo7,param_grid=param_grid7,n_jobs=-1,cv=3)\n",
    "grid_result7 = grid7.fit(pca_x,y_train)\n",
    "print('Best: %f using %s' % (grid_result7.best_score_, grid_result7.best_params_))\n",
    "means = grid_result7.cv_results_['mean_test_score'] \n",
    "stds = grid_result7.cv_results_['std_test_score'] \n",
    "params = grid_result7.cv_results_['params'] \n",
    "for mean, std, param in zip(means,stds,params):\n",
    "    print('%f (%f) with: %r' % (mean,std,param))"
   ]
  },
  {
   "cell_type": "code",
   "execution_count": 81,
   "metadata": {},
   "outputs": [],
   "source": [
    "x_hottestnormalized = normalizer.transform(x_hottest)\n",
    "\n",
    "pca_test = pca.fit_transform(x_hottestnormalized)"
   ]
  },
  {
   "cell_type": "code",
   "execution_count": 112,
   "metadata": {},
   "outputs": [
    {
     "name": "stdout",
     "output_type": "stream",
     "text": [
      "[5 5 1 7 4 1 2 5 7 7 6 7 7 4 6 7 1 1 7 7 7 2 4 5 4 5 1 2 4 7 1 7 7 1 7 7 5\n",
      " 7 7 4 7 7 4 4 1 4 1 1 4 7 7 4 1 7 7 7 4 7 7 4 4 5 7 7 4 7 7 8 7 7 7 4 5 1\n",
      " 7 7 7 7 4 7 4 2 7 7 4 1 7 7 7 2 7 5 4 2 7 7 2 1 7 4 1 7 7 7 1 5 7 4 7 4 4\n",
      " 7 1 7 4 1 7 4 7 7 1 1 4 7 4 7 4 7 2 7 2 7 7 4 4 1 4 4 4 4 1 7 7 1 4 7 1 4\n",
      " 4 7 1 7 4 7 1 7 4 7 5 1 7 7 7 5 7 5 5 5 2 6 7 4 1 7 1 5 4 5 4 4 1 7 1 4 4\n",
      " 1 5 2 4 7 9 1 2 7 4 7 2 4 7 4 4 5 1 4 8 5 4 1 5 7 7 4 4 4 7 7 2 1 7 7 4 7\n",
      " 7 7 2 5 7 1 5 5 4 5 1 4 4 4 5 4 7 4 5 4 1 7 1 4 1 5 1 4 8 7 7 5 7 1 7 5 1\n",
      " 1 7 2 4 7 7 8 7 5 7 8 6 1 7 2 4 4 5 1 7 7 7 4 7 4 7 2 4 7 7 1 4 7 7 7 1 7\n",
      " 6 5 5 5 7 7 2 5 7 7 7 4 6 1 1 7 5 4 4 4 2 5 5 7 4 7 1 7 7 7 4 7 4 7 7 5 7\n",
      " 7 4 2 4 7 7 7 7 7 7 7 5 7 7 7 7 1 7 1 5 7 7 5 7 4 8 1 4 7 7 7 7 2 7 6 7 1\n",
      " 7 7 4 2 1 1 1 7 5 5 5 7 4 7 7 4 5 4 7 7 2 5 7 7 7 7 7 7 7 7 2 1 7 4 7 7 7\n",
      " 7 4 5 7 2 2 8 1 1 7 2 7 7 1 1 4 7 1 7 1 7 4 7 4 7 7 7 7 4 7 4 4 1 6 7 4 1\n",
      " 1 7 2 2 7 5 4 7 7 2 7 6 7 7 5 2 7 7 7 7 2 7 1 4 6 7 7 4 4 7 7 2 1 7 1 4 7\n",
      " 4 7 6 4 5 7 7 1 4 2 4 7 7 5 1 7 7 4]\n"
     ]
    }
   ],
   "source": [
    "#fiz previsoes nos dados de teste com o ultimo modelo\n",
    "predictions = grid_result7.predict(pca_test)\n",
    "print(label_encoder.inverse_transform(predictions))"
   ]
  },
  {
   "cell_type": "code",
   "execution_count": 116,
   "metadata": {},
   "outputs": [
    {
     "name": "stdout",
     "output_type": "stream",
     "text": [
      "Previsto => 5 (esperado 6)\n",
      "Previsto => 5 (esperado 5)\n",
      "Previsto => 1 (esperado 7)\n",
      "Previsto => 7 (esperado 6)\n",
      "Previsto => 4 (esperado 5)\n",
      "Previsto => 1 (esperado 1)\n",
      "Previsto => 2 (esperado 2)\n",
      "Previsto => 5 (esperado 6)\n",
      "Previsto => 7 (esperado 1)\n",
      "Previsto => 7 (esperado 2)\n",
      "Previsto => 6 (esperado 1)\n",
      "Previsto => 7 (esperado 7)\n",
      "Previsto => 7 (esperado 6)\n",
      "Previsto => 4 (esperado 2)\n",
      "Previsto => 6 (esperado 6)\n"
     ]
    }
   ],
   "source": [
    "#ele só acerta 5 de 15\n",
    "for i in range(15):\n",
    "    print('Previsto => %d (esperado %d)' % (label_encoder.inverse_transform(predictions)[i],y_test[i]))"
   ]
  },
  {
   "cell_type": "code",
   "execution_count": 122,
   "metadata": {},
   "outputs": [
    {
     "data": {
      "text/plain": [
       "0.05811623246492986"
      ]
     },
     "execution_count": 122,
     "metadata": {},
     "output_type": "execute_result"
    }
   ],
   "source": [
    "from sklearn.metrics import f1_score\n",
    "f1_score(y_test, predictions,  average='micro')"
   ]
  },
  {
   "cell_type": "code",
   "execution_count": 125,
   "metadata": {},
   "outputs": [
    {
     "data": {
      "text/plain": [
       "29"
      ]
     },
     "execution_count": 125,
     "metadata": {},
     "output_type": "execute_result"
    }
   ],
   "source": [
    "from sklearn.metrics import accuracy_score\n",
    "accuracy_score(y_test, predictions,normalize=False)"
   ]
  }
 ],
 "metadata": {
  "kernelspec": {
   "display_name": "Python 3",
   "language": "python",
   "name": "python3"
  },
  "language_info": {
   "codemirror_mode": {
    "name": "ipython",
    "version": 3
   },
   "file_extension": ".py",
   "mimetype": "text/x-python",
   "name": "python",
   "nbconvert_exporter": "python",
   "pygments_lexer": "ipython3",
   "version": "3.7.3"
  }
 },
 "nbformat": 4,
 "nbformat_minor": 2
}
